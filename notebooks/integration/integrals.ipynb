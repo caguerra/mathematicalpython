{
 "cells": [
  {
   "cell_type": "markdown",
   "metadata": {},
   "source": [
    "# Definite Integrals\n",
    "\n",
    "The [definite integral](https://en.wikipedia.org/wiki/Integral) of a function $f(x)$ over an interval $[a,b]$ is the limit\n",
    "\n",
    "$$\n",
    "\\int_a^b f(x) \\, dx = \\lim_{N \\to \\infty} \\sum_{i=1}^N f(x_i^ * ) (x_i - x_{i-1}) \\ \\ , \\ x_i^* \\in [x_{i-1},x_i]\n",
    "$$\n",
    "\n",
    "where, for each $N$,\n",
    "\n",
    "$$\n",
    "x_0 = a < x_1 < \\cdots < x_N = b\n",
    "$$\n",
    "\n",
    "is a partition of $[a,b]$ with $N$ subintervals and the values $x_i^ * \\in [x_{i-1},x_i]$ chosen in each subinterval is arbitrary.\n",
    "\n",
    "The definite integral represents the (net) area under the curve of the graph of $y=f(x)$ on the interval $[a,b]$. \n",
    "\n",
    "$$\n",
    "\\int_a^b f(x) \\, dx = \\text{(net) area under the curve } y = f(x) \\text{ on } [a,b]\n",
    "$$\n",
    "\n",
    "The term \"net\" means that area above the $x$-axis is positive and the area under the $x$-axis counts as negative area. For example, we can visualize the integral:\n",
    "\n",
    "$$\n",
    "\\int_{\\pi/2}^{3\\pi/2} \\left( \\sin(0.2 x) + \\sin(2x) + 1 \\right) dx\n",
    "$$"
   ]
  },
  {
   "cell_type": "code",
   "execution_count": 1,
   "metadata": {},
   "outputs": [
    {
     "data": {
      "image/png": "[encoded data removed]",
      "text/plain": [
       "<Figure size 432x288 with 1 Axes>"
      ]
     },
     "metadata": {
      "needs_background": "light"
     },
     "output_type": "display_data"
    }
   ],
   "source": [
    "import numpy as np\n",
    "import matplotlib.pyplot as plt\n",
    "\n",
    "f = lambda x: np.sin(0.2*x) + np.sin(2*x) + 1\n",
    "\n",
    "x = np.linspace(0,2*np.pi,100)\n",
    "y = f(x)\n",
    "plt.plot(x,y)\n",
    "\n",
    "X = np.linspace(np.pi/2,3*np.pi/2,100)\n",
    "Y = f(X)\n",
    "plt.fill_between(X,Y)\n",
    "\n",
    "plt.xticks([np.pi/2,3*np.pi/2],['$\\pi/2$','$3\\pi/2$']); plt.yticks([]);\n",
    "plt.xlim([0,2*np.pi]); plt.ylim([0,3]);\n",
    "plt.show()"
   ]
  },
  {
   "cell_type": "markdown",
   "metadata": {},
   "source": [
    "In our introductory calculus courses, we focus on integrals which we can solve exactly by the [Fundamental Theorem of Calculus](https://en.wikipedia.org/wiki/Fundamental_theorem_of_calculus) such as\n",
    "\n",
    "$$\n",
    "\\int_0^{\\pi/2} \\cos(x) \\, dx = \\sin(\\pi/2) - \\sin(0) = 1\n",
    "$$\n",
    "\n",
    "However, most definite integrals are impossible to solve exactly. For example, the famous [error function](https://en.wikipedia.org/wiki/Error_function) in probability\n",
    "\n",
    "$$\n",
    "\\mathrm{erf}(x) = \\frac{2}{\\sqrt{\\pi}} \\int_0^x e^{-t^2} dt\n",
    "$$\n",
    "\n",
    "is a definite integral for which there is no explicit formula.\n",
    "\n",
    "The idea behind [numerical integration](https://en.wikipedia.org/wiki/Numerical_integration) is to use simple geometric shapes to approximate the area under the curve $y=f(x)$ to estimate definite integrals. In this section, we explore the simplest methods of numerical integration: Riemann sums, the trapezoid rule and Simpson's rule."
   ]
  }
 ],
 "metadata": {
  "kernelspec": {
   "display_name": "Python 3",
   "language": "python",
   "name": "python3"
  },
  "language_info": {
   "codemirror_mode": {
    "name": "ipython",
    "version": 3
   },
   "file_extension": ".py",
   "mimetype": "text/x-python",
   "name": "python",
   "nbconvert_exporter": "python",
   "pygments_lexer": "ipython3",
   "version": "3.8.8"
  }
 },
 "nbformat": 4,
 "nbformat_minor": 4
}
